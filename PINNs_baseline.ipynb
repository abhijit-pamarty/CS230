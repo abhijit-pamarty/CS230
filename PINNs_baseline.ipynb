{
 "cells": [
  {
   "cell_type": "markdown",
   "metadata": {},
   "source": [
    "## PINNs baseline (by DeepXDE)"
   ]
  },
  {
   "cell_type": "code",
   "execution_count": 1,
   "metadata": {},
   "outputs": [
    {
     "name": "stderr",
     "output_type": "stream",
     "text": [
      "Using backend: pytorch\n",
      "Other supported backends: tensorflow.compat.v1, tensorflow, jax, paddle.\n",
      "paddle supports more examples now and is recommended.\n"
     ]
    },
    {
     "name": "stdout",
     "output_type": "stream",
     "text": [
      "NumPy version: 1.26.4\n"
     ]
    }
   ],
   "source": [
    "\"\"\"Backend supported: tensorflow.compat.v1, tensorflow, pytorch, jax, paddle\"\"\"\n",
    "import deepxde as dde\n",
    "import numpy as np\n",
    "print(\"NumPy version:\", np.__version__)\n",
    "# Backend pytorch\n",
    "import torch"
   ]
  },
  {
   "cell_type": "code",
   "execution_count": 2,
   "metadata": {},
   "outputs": [],
   "source": [
    "# Problem parameter\n",
    "c0 = 1.0 # initial concentration\n",
    "D = 1.0 # solid-phase diffusion coefficient\n",
    "R = 1.0\n",
    "t = 1.0 # time \n",
    "It = 1.0 # current at time t\n",
    "A = 1.0 # battery sheet area\n",
    "L = 1.0 # thickness of positive/negative electrode\n",
    "eps = 0.5 # solid phase volume fraction of each electrode\n",
    "a = 3*eps/R # specific interfacial area\n",
    "F = 1.0 # Faraday's constant\n",
    "delta = It*R/(A*L*F*D*a*c0)\n",
    "\n",
    "# x = (x, t)\n",
    "def pde(x, y):\n",
    "    # Most backends\n",
    "    dy_x = dde.grad.jacobian(y, x, j=0)\n",
    "    dy_t = dde.grad.jacobian(y, x, j=1)\n",
    "    dy_xx = dde.grad.hessian(y, x, j=0)\n",
    "    # Backend pytorch\n",
    "    return (\n",
    "        dy_t\n",
    "        - 2 * dy_x / (x[:, 0] + 1e-6)\n",
    "        - dy_xx\n",
    "    )\n",
    "\n",
    "def boundary_l(x, on_boundary):\n",
    "    return on_boundary and dde.utils.isclose(x[0], 0)\n",
    "\n",
    "def boundary_r(x, on_boundary):\n",
    "    return on_boundary and dde.utils.isclose(x[0], 1)"
   ]
  },
  {
   "cell_type": "code",
   "execution_count": 3,
   "metadata": {},
   "outputs": [
    {
     "name": "stdout",
     "output_type": "stream",
     "text": [
      "[[-1.27682078e-16]\n",
      " [-5.97464273e-01]\n",
      " [-1.00999942e+00]\n",
      " [-9.57114311e-01]\n",
      " [-3.14451504e-01]\n",
      " [ 3.83256928e-01]\n",
      " [ 8.97891653e-01]\n",
      " [ 1.02048904e+00]\n",
      " [ 6.62673725e-01]\n",
      " [ 1.25230861e-16]]\n"
     ]
    }
   ],
   "source": [
    "# This block considers the concentration from dataset\n",
    "def func(x):\n",
    "    return np.sin(np.pi * x[:, 0:1]) * np.exp(-x[:, 1:])\n",
    "\n",
    "observe_x = np.vstack((np.linspace(-1, 1, num=10), np.random.randn(10) * 0.1)).T\n",
    "observe_y = dde.icbc.PointSetBC(observe_x, func(observe_x), component=0)\n",
    "\n",
    "print(func(observe_x))"
   ]
  },
  {
   "cell_type": "code",
   "execution_count": null,
   "metadata": {},
   "outputs": [
    {
     "name": "stdout",
     "output_type": "stream",
     "text": [
      "Warning: 10000 points required, but 10086 points sampled.\n",
      "Compiling model...\n",
      "'compile' took 0.545062 s\n",
      "\n",
      "Training model...\n",
      "\n",
      "Step      Train loss                                            Test loss                                             Test metric\n",
      "0         [4.88e+10, 1.04e-01, 2.75e-01, 7.56e-01, 3.48e-01]    [2.72e+08, 1.04e-01, 2.75e-01, 7.56e-01, 3.48e-01]    []  \n",
      "1000      [1.03e+05, 6.90e-08, 4.45e-01, 2.67e-01, 7.08e-01]    [3.85e+02, 6.90e-08, 4.45e-01, 2.67e-01, 7.08e-01]    []  \n",
      "2000      [6.04e+04, 1.67e-08, 4.45e-01, 2.48e-01, 7.27e-01]    [1.69e+02, 1.67e-08, 4.45e-01, 2.48e-01, 7.27e-01]    []  \n"
     ]
    }
   ],
   "source": [
    "geom = dde.geometry.Interval(0, 1)\n",
    "timedomain = dde.geometry.TimeDomain(0, delta)\n",
    "geomtime = dde.geometry.GeometryXTime(geom, timedomain)\n",
    "\n",
    "bc_l = dde.icbc.NeumannBC(geomtime, lambda X: 0.0, boundary_l)\n",
    "bc_r = dde.icbc.NeumannBC(geomtime, lambda X: delta, boundary_r)\n",
    "\n",
    "ic = dde.icbc.IC(geomtime, lambda X: 1.0, lambda _, on_initial: on_initial)\n",
    "data = dde.data.TimePDE(\n",
    "    geomtime,\n",
    "    pde,\n",
    "    [bc_l, bc_r, ic, observe_y],\n",
    "    num_domain=40,\n",
    "    num_boundary=20,\n",
    "    num_initial=10,\n",
    "    anchors=observe_x,\n",
    "    num_test=10000,\n",
    ")\n",
    "\n",
    "layer_size = [2] + [32] * 3 + [1]\n",
    "activation = \"tanh\"\n",
    "initializer = \"Glorot uniform\"\n",
    "net = dde.nn.FNN(layer_size, activation, initializer)\n",
    "\n",
    "model = dde.Model(data, net)\n",
    "\n",
    "model.compile(\"adam\", lr=0.001)\n",
    "losshistory, train_state = model.train(iterations=20000)\n",
    "\n",
    "dde.saveplot(losshistory, train_state, issave=False, isplot=True)"
   ]
  }
 ],
 "metadata": {
  "kernelspec": {
   "display_name": ".venv",
   "language": "python",
   "name": "python3"
  },
  "language_info": {
   "codemirror_mode": {
    "name": "ipython",
    "version": 3
   },
   "file_extension": ".py",
   "mimetype": "text/x-python",
   "name": "python",
   "nbconvert_exporter": "python",
   "pygments_lexer": "ipython3",
   "version": "3.11.4"
  }
 },
 "nbformat": 4,
 "nbformat_minor": 2
}
